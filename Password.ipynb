{
 "cells": [
  {
   "cell_type": "code",
   "execution_count": null,
   "id": "214fac87",
   "metadata": {},
   "outputs": [],
   "source": [
    "# 1.Random password generator\n",
    "\n",
    "import random\n",
    "import string\n",
    "\n",
    "lower = string.ascii_lowercase\n",
    "upper = string.ascii_uppercase\n",
    "digits = string.digits\n",
    "pncn = string.punctuation\n",
    "\n",
    "password = lower + upper + digits + pncn\n",
    "\n",
    "password = \"\".join(random.sample(password, 10))\n",
    "print(\"\\nYour random password is:\",password)"
   ]
  },
  {
   "cell_type": "code",
   "execution_count": null,
   "id": "7e18260d-c7ec-4abc-b9ee-d252aa316ae5",
   "metadata": {},
   "outputs": [],
   "source": [
    "# 2.password checker\n",
    "\n",
    "password = input(\"Enter the Password: \")\n",
    "while len(password) < 8:\n",
    "    print(\"password is too short\")\n",
    "    password = input(\"Enter the Password Again: \")\n",
    "\n",
    "upper_case = \"ABCDEFGHIJKLMNOPQRSTUVWXYZ\"\n",
    "lower_case = \"abcdefghijklmnopqrstuvwxyz\"\n",
    "special_chars = \"!@#$%^&*()_+\"\n",
    "numbers = \"1234567890\"\n",
    "\n",
    "if any(pswrd.islower() for pswrd in password):\n",
    "    pass\n",
    "else:\n",
    "    print(\"password does not have lower case\")\n",
    "if any(pswrd.isupper() for pswrd in password):\n",
    "        pass\n",
    "else:\n",
    "    print(\"password does not have upper case\")\n",
    "if any(pswrd in special_chars for pswrd in password):\n",
    "        pass\n",
    "else:\n",
    "    print(\"password does not have special char\")\n",
    "    pass\n",
    "print(\"Your given password is valid\")"
   ]
  }
 ],
 "metadata": {
  "kernelspec": {
   "display_name": "Python 3",
   "language": "python",
   "name": "python3"
  },
  "language_info": {
   "codemirror_mode": {
    "name": "ipython",
    "version": 3
   },
   "file_extension": ".py",
   "mimetype": "text/x-python",
   "name": "python",
   "nbconvert_exporter": "python",
   "pygments_lexer": "ipython3",
   "version": "3.13.7"
  }
 },
 "nbformat": 4,
 "nbformat_minor": 5
}
