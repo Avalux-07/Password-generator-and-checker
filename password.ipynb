{
 "cells": [
  {
   "cell_type": "code",
   "execution_count": 3,
   "id": "7e18260d-c7ec-4abc-b9ee-d252aa316ae5",
   "metadata": {},
   "outputs": [
    {
     "name": "stdin",
     "output_type": "stream",
     "text": [
      "Enter the Password aiml_python\n"
     ]
    },
    {
     "name": "stdout",
     "output_type": "stream",
     "text": [
      "aiml_python\n"
     ]
    }
   ],
   "source": [
    "password = input(\"Enter the Password\")\n",
    "while len(password) < 8:\n",
    "    print(\"password is too short\")\n",
    "    password = input(\"Enter the Password Again\")\n",
    "\n",
    "upper_case = \"ABCDEFGHIJKLMNOPQRSTUVWXYZ\"\n",
    "lower_case = \"abcdefghijklmnopqrstuvwxyz\"\n",
    "special_chars = \"!@#$%^&*()_+\"\n",
    "numbers = \"1234567890\"\n",
    "\n",
    "if any(pswrd.islower() for pswrd in password):\n",
    "    print(\"password has lower case\")\n",
    "else:\n",
    "    print(\"password does not have lower case\")\n",
    "if any(pswrd.isupper() for pswrd in password):\n",
    "        print(\"password has upper case\")\n",
    "else:\n",
    "    print(\"password does not have upper case\")\n",
    "if any(pswrd.isnum "
   ]
  },
  {
   "cell_type": "code",
   "execution_count": 20,
   "id": "68654fac-b4cd-48b0-849a-d28d637929e6",
   "metadata": {},
   "outputs": [
    {
     "name": "stdout",
     "output_type": "stream",
     "text": [
      "abcdefghijklmnopqrstuvwxyzABCDEFGHIJKLMNOPQRSTUVWXYZ\n",
      "abcdefghijklmnopqrstuvwxyz\n",
      "ABCDEFGHIJKLMNOPQRSTUVWXYZ\n",
      "0123456789\n",
      "!\"#$%&'()*+,-./:;<=>?@[\\]^_`{|}~\n",
      "abcdefghijklmnopqrstuvwxyzABCDEFGHIJKLMNOPQRSTUVWXYZ0123456789!\"#$%&'()*+,-./:;<=>?@[\\]^_`{|}~\n",
      "s8!Pa1Qn\n"
     ]
    }
   ],
   "source": [
    "import random\n",
    "import string\n",
    "\n",
    "print(string.ascii_letters)\n",
    "print(string.ascii_lowercase)\n",
    "print(string.ascii_uppercase)\n",
    "print(string.digits)\n",
    "print(string.punctuation)\n",
    "\n",
    "password = string.ascii_lowercase + string.ascii_uppercase + string.digits + string.punctuation\n",
    "print(password)\n",
    "\n",
    "password = \"\".join(random.sample(password, 8))\n",
    "print(password)"
   ]
  },
  {
   "cell_type": "code",
   "execution_count": 24,
   "id": "af7eb553-f0b2-419d-8e3a-7d50d442a963",
   "metadata": {},
   "outputs": [
    {
     "data": {
      "text/plain": [
       "'ii love python i love pythonki love pythonni love pythonoi love pythonwi love python i love pythonpi love pythonyi love pythonti love pythonhi love pythonoi love pythonn'"
      ]
     },
     "execution_count": 24,
     "metadata": {},
     "output_type": "execute_result"
    }
   ],
   "source": [
    "a = \"i love python\"\n",
    "b = \"i know python\"\n",
    "a.join(b)"
   ]
  },
  {
   "cell_type": "code",
   "execution_count": null,
   "id": "28d6126a-f218-4045-a152-78f80452d9c7",
   "metadata": {},
   "outputs": [],
   "source": [
    "import random\n",
    "import string\n",
    "\n",
    "char_let = string.ascii_letters\n",
    "char_low = string.ascii_lowercase\n",
    "char_up = string.ascii_uppercase\n",
    "chardig = string.digits\n",
    "char_punc = string.punctuation"
   ]
  },
  {
   "cell_type": "code",
   "execution_count": 11,
   "id": "b8bca791-ffd2-4f03-8af0-ce0ab0428706",
   "metadata": {},
   "outputs": [
    {
     "ename": "SyntaxError",
     "evalue": "invalid syntax (1089551019.py, line 6)",
     "output_type": "error",
     "traceback": [
      "\u001b[1;36m  Cell \u001b[1;32mIn[11], line 6\u001b[1;36m\u001b[0m\n\u001b[1;33m    password =\u001b[0m\n\u001b[1;37m               ^\u001b[0m\n\u001b[1;31mSyntaxError\u001b[0m\u001b[1;31m:\u001b[0m invalid syntax\n"
     ]
    }
   ],
   "source": [
    "## import random\n",
    "import string\n",
    "\n",
    "def generate_password(length=8):\n",
    "  all_chars = string.ascii_letters + string.digits + string.punctuation\n",
    "  password = \n",
    "  ''.join(random.choice(all_chars) for in range(length))\n",
    "  return password\n",
    "  def classify_password(password):\n",
    "    has_lower = any(c.islower() for c in password)\n",
    "    has_upper = any(c.isupper() for c in password)\n",
    "    has_digit = any(c.isdigit() for c in password)\n",
    "    has_special = any(c.islower() for c in password)\n"
   ]
  },
  {
   "cell_type": "code",
   "execution_count": 28,
   "id": "64c4af4a-5fa7-4430-b226-47c6428fe18a",
   "metadata": {},
   "outputs": [
    {
     "data": {
      "text/plain": [
       "float"
      ]
     },
     "execution_count": 28,
     "metadata": {},
     "output_type": "execute_result"
    }
   ],
   "source": [
    "a = 29.8\n",
    "b = 29\n",
    "type(a)"
   ]
  },
  {
   "cell_type": "code",
   "execution_count": null,
   "id": "21c2c3b9-34a4-4582-a44f-d3bd796354b7",
   "metadata": {},
   "outputs": [],
   "source": []
  }
 ],
 "metadata": {
  "kernelspec": {
   "display_name": "Python 3 (ipykernel)",
   "language": "python",
   "name": "python3"
  },
  "language_info": {
   "codemirror_mode": {
    "name": "ipython",
    "version": 3
   },
   "file_extension": ".py",
   "mimetype": "text/x-python",
   "name": "python",
   "nbconvert_exporter": "python",
   "pygments_lexer": "ipython3",
   "version": "3.12.7"
  }
 },
 "nbformat": 4,
 "nbformat_minor": 5
}
